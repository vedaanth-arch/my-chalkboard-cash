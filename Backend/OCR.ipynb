{
 "cells": [
  {
   "cell_type": "code",
   "execution_count": 1,
   "id": "ae29fb44",
   "metadata": {},
   "outputs": [
    {
     "name": "stdout",
     "output_type": "stream",
     "text": [
      "Requirement already satisfied: pytesseract in c:\\users\\vedaa\\appdata\\local\\packages\\pythonsoftwarefoundation.python.3.11_qbz5n2kfra8p0\\localcache\\local-packages\\python311\\site-packages (0.3.13)\n",
      "Requirement already satisfied: pillow in c:\\users\\vedaa\\appdata\\local\\packages\\pythonsoftwarefoundation.python.3.11_qbz5n2kfra8p0\\localcache\\local-packages\\python311\\site-packages (11.3.0)\n",
      "Requirement already satisfied: packaging>=21.3 in c:\\users\\vedaa\\appdata\\local\\packages\\pythonsoftwarefoundation.python.3.11_qbz5n2kfra8p0\\localcache\\local-packages\\python311\\site-packages (from pytesseract) (25.0)\n"
     ]
    },
    {
     "name": "stderr",
     "output_type": "stream",
     "text": [
      "\n",
      "[notice] A new release of pip is available: 24.0 -> 25.2\n",
      "[notice] To update, run: C:\\Users\\vedaa\\AppData\\Local\\Microsoft\\WindowsApps\\PythonSoftwareFoundation.Python.3.11_qbz5n2kfra8p0\\python.exe -m pip install --upgrade pip\n"
     ]
    }
   ],
   "source": [
    "!pip install pytesseract pillow"
   ]
  },
  {
   "cell_type": "code",
   "execution_count": 2,
   "id": "4deac115",
   "metadata": {},
   "outputs": [
    {
     "name": "stdout",
     "output_type": "stream",
     "text": [
      "Address Lorem Ipsum 8/24\n",
      "Date:\n",
      "\n",
      "Manager Lorem Ipsum\n",
      "Description Price\n",
      "Orange Juice $2.15\n",
      "Apples $3.50\n",
      "Tomato $2.40\n",
      "Fish 36.99\n",
      "Beef $10.00\n",
      "Onion $1.25\n",
      "Cheese $3.40\n",
      "Tax\n",
      "\n",
      "TOTAL $29.69\n",
      "\n",
      "THANK YOU\n",
      "\n",
      "123456778963578021\n",
      "\n"
     ]
    }
   ],
   "source": [
    "from PIL import Image\n",
    "import pytesseract\n",
    "\n",
    "# path to your tesseract installation\n",
    "pytesseract.pytesseract.tesseract_cmd = r'C:\\Program Files\\Tesseract-OCR\\tesseract.exe'\n",
    "\n",
    "# open the image\n",
    "img = Image.open('receipt.jpg')\n",
    "\n",
    "# extract text\n",
    "text = pytesseract.image_to_string(img)\n",
    "print(text)\n"
   ]
  },
  {
   "cell_type": "code",
   "execution_count": 7,
   "id": "30f37f9d",
   "metadata": {},
   "outputs": [
    {
     "name": "stdout",
     "output_type": "stream",
     "text": [
      "✅ expenses.csv updated successfully!\n",
      "Total Expenses: $89.38\n",
      "Remaining Amount: $910.62\n",
      "Suggested Investments: Stock Market, Mutual Funds, Fixed Deposit, Bonds, Crypto\n"
     ]
    }
   ],
   "source": [
    "import csv\n",
    "import os\n",
    "\n",
    "# ---------- User Settings ----------\n",
    "principal_amount = 1000.0  # Your available principal\n",
    "investments = [             # Investment options: (name, minimum required)\n",
    "    (\"Stock Market\", 500),\n",
    "    (\"Mutual Funds\", 200),\n",
    "    (\"Fixed Deposit\", 100),\n",
    "    (\"Bonds\", 150),\n",
    "    (\"Crypto\", 50)\n",
    "]\n",
    "\n",
    "# ---------- Step 1: Read receipt_data.csv and calculate total expenses ----------\n",
    "receipt_file = 'receipt_data.csv'\n",
    "total_expenses = 0.0\n",
    "\n",
    "if not os.path.exists(receipt_file):\n",
    "    print(f\"❌ {receipt_file} not found. Make sure the CSV exists.\")\n",
    "    exit()\n",
    "\n",
    "with open(receipt_file, 'r') as f:\n",
    "    reader = csv.DictReader(f)\n",
    "    for row in reader:\n",
    "        try:\n",
    "            total_expenses += float(row['Price'])\n",
    "        except ValueError:\n",
    "            pass  # skip invalid prices\n",
    "\n",
    "# ---------- Step 2: Calculate remaining amount ----------\n",
    "remaining_amount = principal_amount - total_expenses\n",
    "\n",
    "# ---------- Step 3: Suggest affordable investments ----------\n",
    "suggested_investments = [inv[0] for inv in investments if remaining_amount >= inv[1]]\n",
    "suggested_investments_str = \", \".join(suggested_investments) if suggested_investments else \"No suitable investment\"\n",
    "\n",
    "# ---------- Step 4: Write/Update expenses.csv ----------\n",
    "expenses_file = 'expenses.csv'\n",
    "\n",
    "with open(expenses_file, 'w', newline='') as f:\n",
    "    writer = csv.writer(f)\n",
    "    writer.writerow([\"Total Expenses\", \"Principal Amount\", \"Remaining Amount\", \"Suggested Investment\"])\n",
    "    writer.writerow([total_expenses, principal_amount, remaining_amount, suggested_investments_str])\n",
    "\n",
    "print(f\"✅ {expenses_file} updated successfully!\")\n",
    "print(f\"Total Expenses: ${total_expenses:.2f}\")\n",
    "print(f\"Remaining Amount: ${remaining_amount:.2f}\")\n",
    "print(f\"Suggested Investments: {suggested_investments_str}\")\n"
   ]
  },
  {
   "cell_type": "code",
   "execution_count": null,
   "id": "8facf82c",
   "metadata": {},
   "outputs": [],
   "source": [
    "\n"
   ]
  }
 ],
 "metadata": {
  "kernelspec": {
   "display_name": "Python 3",
   "language": "python",
   "name": "python3"
  },
  "language_info": {
   "codemirror_mode": {
    "name": "ipython",
    "version": 3
   },
   "file_extension": ".py",
   "mimetype": "text/x-python",
   "name": "python",
   "nbconvert_exporter": "python",
   "pygments_lexer": "ipython3",
   "version": "3.11.9"
  }
 },
 "nbformat": 4,
 "nbformat_minor": 5
}
